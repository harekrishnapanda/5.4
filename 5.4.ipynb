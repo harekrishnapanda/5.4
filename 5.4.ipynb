{
 "cells": [
  {
   "cell_type": "code",
   "execution_count": 1,
   "metadata": {},
   "outputs": [
    {
     "name": "stdout",
     "output_type": "stream",
     "text": [
      "[5, 4, 5, 6, 9, 28, 49, 72, 84, 93, 116, 150]\n"
     ]
    }
   ],
   "source": [
    "# 5.4\n",
    "def movavg(lst,k):\n",
    "    x=len(lst)-k+1\n",
    "    y=[]\n",
    "    for i in range(x):\n",
    "        sum=0\n",
    "        for j in range(k):\n",
    "            sum +=lst[i+j]\n",
    "        z=sum/k\n",
    "        y.append(int(z))\n",
    "    print(y)\n",
    "    \n",
    "lst1=[3, 5, 7, 2, 8, 10, 11, 65, 72, 81, 99, 100, 150,200]\n",
    "movavg(lst1,3)"
   ]
  },
  {
   "cell_type": "code",
   "execution_count": null,
   "metadata": {},
   "outputs": [],
   "source": []
  }
 ],
 "metadata": {
  "kernelspec": {
   "display_name": "Python 3",
   "language": "python",
   "name": "python3"
  },
  "language_info": {
   "codemirror_mode": {
    "name": "ipython",
    "version": 3
   },
   "file_extension": ".py",
   "mimetype": "text/x-python",
   "name": "python",
   "nbconvert_exporter": "python",
   "pygments_lexer": "ipython3",
   "version": "3.6.4"
  }
 },
 "nbformat": 4,
 "nbformat_minor": 2
}
